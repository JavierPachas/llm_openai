{
  "nbformat": 4,
  "nbformat_minor": 0,
  "metadata": {
    "colab": {
      "private_outputs": true,
      "provenance": [],
      "authorship_tag": "ABX9TyP1NQ5c7i57q/zYDa71+OGO",
      "include_colab_link": true
    },
    "kernelspec": {
      "name": "python3",
      "display_name": "Python 3"
    },
    "language_info": {
      "name": "python"
    }
  },
  "cells": [
    {
      "cell_type": "markdown",
      "metadata": {
        "id": "view-in-github",
        "colab_type": "text"
      },
      "source": [
        "<a href=\"https://colab.research.google.com/github/JavierPachas/openai/blob/main/L2_classification.ipynb\" target=\"_parent\"><img src=\"https://colab.research.google.com/assets/colab-badge.svg\" alt=\"Open In Colab\"/></a>"
      ]
    },
    {
      "cell_type": "markdown",
      "source": [
        "#L2 Evaluate Inputs: Classification"
      ],
      "metadata": {
        "id": "E2kYqufxsaHE"
      }
    },
    {
      "cell_type": "markdown",
      "source": [
        "### Setup\n",
        "\n",
        "Load the API key and relevant Python libaries."
      ],
      "metadata": {
        "id": "i9fkOtFkqF1q"
      }
    },
    {
      "cell_type": "code",
      "execution_count": null,
      "metadata": {
        "id": "3J0RabWCpljU"
      },
      "outputs": [],
      "source": [
        "import os\n",
        "import openai\n",
        "import tiktoken\n",
        "from dotenv import load_dotenv, find_dotenv\n",
        "_ = load_dotenv(find_dotenv()) # read local .env file\n",
        "\n",
        "openai.api_key  = os.environ['OPENAI_API_KEY']"
      ]
    },
    {
      "cell_type": "code",
      "source": [
        "def get_completion_from_messages(messages,\n",
        "                                 model=\"gpt-3.5-turbo\",\n",
        "                                 temperature=0,\n",
        "                                 max_tokens=500):\n",
        "    response = openai.ChatCompletion.create(\n",
        "        model=model,\n",
        "        messages=messages,\n",
        "        temperature=temperature,\n",
        "        max_tokens=max_tokens,\n",
        "    )\n",
        "    return response.choices[0].message[\"content\"]"
      ],
      "metadata": {
        "id": "kg-QOT_kqTVF"
      },
      "execution_count": null,
      "outputs": []
    },
    {
      "cell_type": "markdown",
      "source": [
        "**Classify customer queries to handle different cases**"
      ],
      "metadata": {
        "id": "MFycq_BPqgj1"
      }
    },
    {
      "cell_type": "code",
      "source": [
        "delimiter = \"####\"\n",
        "system_message = f\"\"\"\n",
        "You will be provided with customer service queries. \\\n",
        "The customer service query will be delimited with \\\n",
        "{delimiter} characters.\n",
        "Classify each query into a primary category \\\n",
        "and a secondary category.\n",
        "Provide your output in json format with the \\\n",
        "keys: primary and secondary.\n",
        "\n",
        "Primary categories: Billing, Technical Support, \\\n",
        "Account Management, or General Inquiry.\n",
        "\n",
        "Billing secondary categories:\n",
        "Unsubscribe or upgrade\n",
        "Add a payment method\n",
        "Explanation for charge\n",
        "Dispute a charge\n",
        "\n",
        "Technical Support secondary categories:\n",
        "General troubleshooting\n",
        "Device compatibility\n",
        "Software updates\n",
        "\n",
        "Account Management secondary categories:\n",
        "Password reset\n",
        "Update personal information\n",
        "Close account\n",
        "Account security\n",
        "\n",
        "General Inquiry secondary categories:\n",
        "Product information\n",
        "Pricing\n",
        "Feedback\n",
        "Speak to a human\n",
        "\n",
        "\"\"\"\n",
        "user_message = f\"\"\"\\\n",
        "I want you to delete my profile and all of my user data\"\"\"\n",
        "messages =  [\n",
        "{'role':'system',\n",
        " 'content': system_message},\n",
        "{'role':'user',\n",
        " 'content': f\"{delimiter}{user_message}{delimiter}\"},\n",
        "]\n",
        "response = get_completion_from_messages(messages)\n",
        "print(response)"
      ],
      "metadata": {
        "id": "hUaSMrJZqgHC"
      },
      "execution_count": null,
      "outputs": []
    },
    {
      "cell_type": "code",
      "source": [
        "user_message = f\"\"\"\\\n",
        "Tell me more about your flat screen tvs\"\"\"\n",
        "messages =  [\n",
        "{'role':'system',\n",
        " 'content': system_message},\n",
        "{'role':'user',\n",
        " 'content': f\"{delimiter}{user_message}{delimiter}\"},\n",
        "]\n",
        "response = get_completion_from_messages(messages)\n",
        "print(response)"
      ],
      "metadata": {
        "id": "kStXlvEwr3l8"
      },
      "execution_count": null,
      "outputs": []
    },
    {
      "cell_type": "code",
      "source": [
        "user_message = f\"\"\"\\\n",
        "I want a refund for a laptop that it is not working properly, considering that I purchased it last week.\"\"\"\n",
        "messages =  [\n",
        "{'role':'system',\n",
        " 'content': system_message},\n",
        "{'role':'user',\n",
        " 'content': f\"{delimiter}{user_message}{delimiter}\"},\n",
        "]\n",
        "response = get_completion_from_messages(messages)\n",
        "print(response)"
      ],
      "metadata": {
        "id": "7O64bG6nsU9E"
      },
      "execution_count": null,
      "outputs": []
    }
  ]
}